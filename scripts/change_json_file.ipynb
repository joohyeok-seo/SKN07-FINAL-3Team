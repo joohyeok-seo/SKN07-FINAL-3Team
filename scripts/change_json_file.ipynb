{
 "cells": [
  {
   "cell_type": "code",
   "execution_count": 1,
   "id": "ae954bb1-8cec-4e25-ad31-e2e55035626c",
   "metadata": {},
   "outputs": [],
   "source": [
    "import pandas as pd\n",
    "import json"
   ]
  },
  {
   "cell_type": "code",
   "execution_count": 2,
   "id": "a6138ebc-3539-42fe-9d61-0302cafd7a50",
   "metadata": {},
   "outputs": [],
   "source": [
    "# 1. CSV 파일 불러오기\n",
    "df = pd.read_csv(\"food.csv\")"
   ]
  },
  {
   "cell_type": "code",
   "execution_count": 3,
   "id": "f5b721be-5dba-46b1-84af-093a2df30522",
   "metadata": {},
   "outputs": [
    {
     "name": "stdout",
     "output_type": "stream",
     "text": [
      "Index(['식품명', '대분류', '소분류', '기준량', '에너지(kcal)', '탄수화물(g)', '단백질(g)', '지방(g)',\n",
      "       '당류(g)', '식이섬유(g)', '나트륨(mg)', '식품중량'],\n",
      "      dtype='object')\n"
     ]
    }
   ],
   "source": [
    "# 열 이름 확인해보기 (여기서 정확한 열 이름 확인)\n",
    "print(df.columns)"
   ]
  },
  {
   "cell_type": "code",
   "execution_count": 4,
   "id": "2ac1c8ba-3da8-4915-92c1-97067d1c37b6",
   "metadata": {},
   "outputs": [],
   "source": [
    "# 2. JSONL 포맷으로 변환\n",
    "jsonl_data = []"
   ]
  },
  {
   "cell_type": "code",
   "execution_count": 6,
   "id": "f57cc3e5-de63-4108-bd82-3e9be3e42622",
   "metadata": {},
   "outputs": [],
   "source": [
    "for _, row in df.iterrows():\n",
    "    food = row['식품명']\n",
    "    protein = row['단백질(g)']\n",
    "    fat = row['지방(g)']\n",
    "    carbo = row['탄수화물(g)']\n",
    "    kcal = row['에너지(kcal)']\n",
    "\n",
    "    item = {\n",
    "        \"messages\": [\n",
    "            {\"role\": \"system\", \"content\": \"너는 식품의 영양 성분을 설명해주는 전문가야.\"},\n",
    "            {\"role\": \"user\", \"content\": f\"{food}에는 단백질이 얼마나 들어 있어?\"},\n",
    "            {\"role\": \"assistant\", \"content\": f\"{food}에는 단백질이 {protein}g 들어 있어요.\"}\n",
    "        ]\n",
    "    }\n",
    "    jsonl_data.append(item)\n",
    "\n",
    "    item2 = {\n",
    "        \"messages\": [\n",
    "            {\"role\": \"system\", \"content\": \"너는 식품의 영양 성분을 설명해주는 전문가야.\"},\n",
    "            {\"role\": \"user\", \"content\": f\"{food}에는 칼로리가 얼마나 돼?\"},\n",
    "            {\"role\": \"assistant\", \"content\": f\"{food}의 열량은 {kcal}kcal입니다.\"}\n",
    "        ]\n",
    "    }\n",
    "    jsonl_data.append(item2)\n",
    "\n",
    "    item3 = {\n",
    "        \"messages\": [\n",
    "            {\"role\": \"system\", \"content\": \"너는 식품의 영양 성분을 설명해주는 전문가야.\"},\n",
    "            {\"role\": \"user\", \"content\": f\"{food}에는 지방과 탄수화물이 얼마나 들어 있어?\"},\n",
    "            {\"role\": \"assistant\", \"content\": f\"{food}에는 지방이 {fat}g, 탄수화물이 {carbo}g 들어 있어요.\"}\n",
    "        ]\n",
    "    }\n",
    "    jsonl_data.append(item3)"
   ]
  },
  {
   "cell_type": "code",
   "execution_count": 7,
   "id": "e90be88d-7777-48c2-8203-9382b3beea5e",
   "metadata": {},
   "outputs": [
    {
     "name": "stdout",
     "output_type": "stream",
     "text": [
      "✅ JSONL 저장 완료: 총 1656 줄\n"
     ]
    }
   ],
   "source": [
    "# 저장\n",
    "with open(\"train_data.jsonl\", \"w\", encoding=\"utf-8\") as f:\n",
    "    for entry in jsonl_data:\n",
    "        f.write(json.dumps(entry, ensure_ascii=False) + \"\\n\")\n",
    "\n",
    "print(\"✅ JSONL 저장 완료: 총\", len(jsonl_data), \"줄\")"
   ]
  },
  {
   "cell_type": "code",
   "execution_count": null,
   "id": "0bbfd723-8cb8-4ae3-b829-7c711d86486c",
   "metadata": {},
   "outputs": [],
   "source": []
  }
 ],
 "metadata": {
  "kernelspec": {
   "display_name": "Python 3 (ipykernel)",
   "language": "python",
   "name": "python3"
  },
  "language_info": {
   "codemirror_mode": {
    "name": "ipython",
    "version": 3
   },
   "file_extension": ".py",
   "mimetype": "text/x-python",
   "name": "python",
   "nbconvert_exporter": "python",
   "pygments_lexer": "ipython3",
   "version": "3.12.8"
  }
 },
 "nbformat": 4,
 "nbformat_minor": 5
}
