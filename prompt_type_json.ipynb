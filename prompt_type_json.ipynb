{
 "cells": [
  {
   "cell_type": "code",
   "execution_count": 1,
   "id": "7a172b57-f193-402b-8bbb-29b3440bafa2",
   "metadata": {},
   "outputs": [],
   "source": [
    "import pandas as pd\n",
    "import json\n",
    "\n",
    "# CSV 불러오기\n",
    "df = pd.read_csv(\"food.csv\")"
   ]
  },
  {
   "cell_type": "code",
   "execution_count": 2,
   "id": "f48b559b-b6c8-42ba-b0a7-9e7c297154b7",
   "metadata": {},
   "outputs": [],
   "source": [
    "# 결과 저장 리스트\n",
    "output = []"
   ]
  },
  {
   "cell_type": "code",
   "execution_count": 3,
   "id": "cd14f6d1-e804-417a-b3d5-78f696bb3377",
   "metadata": {},
   "outputs": [],
   "source": [
    "# 예시: 각 항목에 대해 3가지 질문 생성\n",
    "for _, row in df.iterrows():\n",
    "    name = row[\"식품명\"]\n",
    "    \n",
    "    # 칼로리\n",
    "    if not pd.isna(row[\"에너지(kcal)\"]):\n",
    "        prompt = f\"{name}의 칼로리는?\"\n",
    "        completion = f\" {int(row['에너지(kcal)'])}kcal입니다.\"\n",
    "        output.append({\"prompt\": prompt, \"completion\": completion})\n",
    "        \n",
    "    # 탄수화물\n",
    "    if not pd.isna(row[\"탄수화물(g)\"]):\n",
    "        prompt = f\"{name}의 탄수화물 함량은?\"\n",
    "        completion = f\" {row['탄수화물(g)']}g입니다.\"\n",
    "        output.append({\"prompt\": prompt, \"completion\": completion})\n",
    "        \n",
    "    # 단백질\n",
    "    if not pd.isna(row[\"단백질(g)\"]):\n",
    "        prompt = f\"{name}의 단백질 함량은?\"\n",
    "        completion = f\" {row['단백질(g)']}g입니다.\"\n",
    "        output.append({\"prompt\": prompt, \"completion\": completion})\n"
   ]
  },
  {
   "cell_type": "code",
   "execution_count": 4,
   "id": "d8fd1505-65a1-4117-96ea-db312a811fce",
   "metadata": {},
   "outputs": [],
   "source": [
    "# JSONL로 저장\n",
    "with open(\"food_finetune.jsonl\", \"w\", encoding=\"utf-8\") as f:\n",
    "    for item in output:\n",
    "        json.dump(item, f, ensure_ascii=False)\n",
    "        f.write(\"\\n\")"
   ]
  }
 ],
 "metadata": {
  "kernelspec": {
   "display_name": "Python 3 (ipykernel)",
   "language": "python",
   "name": "python3"
  },
  "language_info": {
   "codemirror_mode": {
    "name": "ipython",
    "version": 3
   },
   "file_extension": ".py",
   "mimetype": "text/x-python",
   "name": "python",
   "nbconvert_exporter": "python",
   "pygments_lexer": "ipython3",
   "version": "3.12.8"
  }
 },
 "nbformat": 4,
 "nbformat_minor": 5
}
