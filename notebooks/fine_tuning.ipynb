{
 "cells": [
  {
   "cell_type": "code",
   "execution_count": 11,
   "id": "44e1a40c-d273-40d6-840c-fb8dc239a4ec",
   "metadata": {},
   "outputs": [
    {
     "name": "stdout",
     "output_type": "stream",
     "text": [
      "Collecting openai==1.2.4\n",
      "  Downloading openai-1.2.4-py3-none-any.whl.metadata (16 kB)\n",
      "Collecting anyio<4,>=3.5.0 (from openai==1.2.4)\n",
      "  Using cached anyio-3.7.1-py3-none-any.whl.metadata (4.7 kB)\n",
      "Requirement already satisfied: distro<2,>=1.7.0 in /home/encore/miniconda3/lib/python3.12/site-packages (from openai==1.2.4) (1.9.0)\n",
      "Requirement already satisfied: httpx<1,>=0.23.0 in /home/encore/miniconda3/lib/python3.12/site-packages (from openai==1.2.4) (0.28.1)\n",
      "Requirement already satisfied: pydantic<3,>=1.9.0 in /home/encore/miniconda3/lib/python3.12/site-packages (from openai==1.2.4) (2.10.4)\n",
      "Requirement already satisfied: tqdm>4 in /home/encore/miniconda3/lib/python3.12/site-packages (from openai==1.2.4) (4.66.5)\n",
      "Requirement already satisfied: typing-extensions<5,>=4.5 in /home/encore/miniconda3/lib/python3.12/site-packages (from openai==1.2.4) (4.12.2)\n",
      "Requirement already satisfied: idna>=2.8 in /home/encore/miniconda3/lib/python3.12/site-packages (from anyio<4,>=3.5.0->openai==1.2.4) (3.7)\n",
      "Requirement already satisfied: sniffio>=1.1 in /home/encore/miniconda3/lib/python3.12/site-packages (from anyio<4,>=3.5.0->openai==1.2.4) (1.3.1)\n",
      "Requirement already satisfied: certifi in /home/encore/miniconda3/lib/python3.12/site-packages (from httpx<1,>=0.23.0->openai==1.2.4) (2024.12.14)\n",
      "Requirement already satisfied: httpcore==1.* in /home/encore/miniconda3/lib/python3.12/site-packages (from httpx<1,>=0.23.0->openai==1.2.4) (1.0.7)\n",
      "Requirement already satisfied: h11<0.15,>=0.13 in /home/encore/miniconda3/lib/python3.12/site-packages (from httpcore==1.*->httpx<1,>=0.23.0->openai==1.2.4) (0.14.0)\n",
      "Requirement already satisfied: annotated-types>=0.6.0 in /home/encore/miniconda3/lib/python3.12/site-packages (from pydantic<3,>=1.9.0->openai==1.2.4) (0.7.0)\n",
      "Requirement already satisfied: pydantic-core==2.27.2 in /home/encore/miniconda3/lib/python3.12/site-packages (from pydantic<3,>=1.9.0->openai==1.2.4) (2.27.2)\n",
      "Downloading openai-1.2.4-py3-none-any.whl (220 kB)\n",
      "Using cached anyio-3.7.1-py3-none-any.whl (80 kB)\n",
      "Installing collected packages: anyio, openai\n",
      "  Attempting uninstall: anyio\n",
      "    Found existing installation: anyio 4.8.0\n",
      "    Uninstalling anyio-4.8.0:\n",
      "      Successfully uninstalled anyio-4.8.0\n",
      "  Attempting uninstall: openai\n",
      "    Found existing installation: openai 1.78.0\n",
      "    Uninstalling openai-1.78.0:\n",
      "      Successfully uninstalled openai-1.78.0\n",
      "Successfully installed anyio-3.7.1 openai-1.2.4\n"
     ]
    }
   ],
   "source": [
    "import sys\n",
    "!{sys.executable} -m pip install openai==1.2.4"
   ]
  },
  {
   "cell_type": "code",
   "execution_count": 14,
   "id": "4097d13e-9831-441a-bf8d-3d6118d12e4d",
   "metadata": {},
   "outputs": [
    {
     "name": "stdout",
     "output_type": "stream",
     "text": [
      "openai 1.2.4\n"
     ]
    }
   ],
   "source": [
    "!openai --version"
   ]
  },
  {
   "cell_type": "code",
   "execution_count": 18,
   "id": "f7b9ff84-bd03-463b-9a30-7deafae93cd9",
   "metadata": {},
   "outputs": [
    {
     "name": "stdout",
     "output_type": "stream",
     "text": [
      "usage: openai api [-h]\n",
      "                  {chat.completions.create,images.generate,images.edit,images.create_variation,audio.transcriptions.create,audio.translations.create,files.create,files.retrieve,files.delete,files.list,models.list,models.retrieve,models.delete,completions.create}\n",
      "                  ...\n",
      "openai api: error: argument {chat.completions.create,images.generate,images.edit,images.create_variation,audio.transcriptions.create,audio.translations.create,files.create,files.retrieve,files.delete,files.list,models.list,models.retrieve,models.delete,completions.create}: invalid choice: 'fine_tuning.jobs.create' (choose from chat.completions.create, images.generate, images.edit, images.create_variation, audio.transcriptions.create, audio.translations.create, files.create, files.retrieve, files.delete, files.list, models.list, models.retrieve, models.delete, completions.create)\n"
     ]
    }
   ],
   "source": [
    "!openai api fine_tuning.jobs.create -t train_data.jsonl -m gpt-3.5-turbo\n"
   ]
  },
  {
   "cell_type": "code",
   "execution_count": 19,
   "id": "851c48bc-fdd2-41d6-9671-c11b45930092",
   "metadata": {},
   "outputs": [
    {
     "name": "stdout",
     "output_type": "stream",
     "text": [
      "usage: openai api [-h]\n",
      "                  {chat.completions.create,images.generate,images.edit,images.create_variation,audio.transcriptions.create,audio.translations.create,files.create,files.retrieve,files.delete,files.list,models.list,models.retrieve,models.delete,completions.create}\n",
      "                  ...\n",
      "openai api: error: argument {chat.completions.create,images.generate,images.edit,images.create_variation,audio.transcriptions.create,audio.translations.create,files.create,files.retrieve,files.delete,files.list,models.list,models.retrieve,models.delete,completions.create}: invalid choice: 'fine_tuning.jobs.create' (choose from chat.completions.create, images.generate, images.edit, images.create_variation, audio.transcriptions.create, audio.translations.create, files.create, files.retrieve, files.delete, files.list, models.list, models.retrieve, models.delete, completions.create)\n"
     ]
    }
   ],
   "source": [
    "!openai api fine_tuning.jobs.create -t train_data.jsonl -m gpt-3.5-turbo\n"
   ]
  }
 ],
 "metadata": {
  "kernelspec": {
   "display_name": "Python 3 (ipykernel)",
   "language": "python",
   "name": "python3"
  },
  "language_info": {
   "codemirror_mode": {
    "name": "ipython",
    "version": 3
   },
   "file_extension": ".py",
   "mimetype": "text/x-python",
   "name": "python",
   "nbconvert_exporter": "python",
   "pygments_lexer": "ipython3",
   "version": "3.12.8"
  }
 },
 "nbformat": 4,
 "nbformat_minor": 5
}
